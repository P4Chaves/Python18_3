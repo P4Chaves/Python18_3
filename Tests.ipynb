{
 "cells": [
  {
   "cell_type": "code",
   "execution_count": 1,
   "metadata": {},
   "outputs": [
    {
     "name": "stdout",
     "output_type": "stream",
     "text": [
      "10\n"
     ]
    }
   ],
   "source": [
    "x = 2\n",
    "z = x + 8\n",
    "print (z)"
   ]
  },
  {
   "cell_type": "code",
   "execution_count": 2,
   "metadata": {},
   "outputs": [
    {
     "name": "stdout",
     "output_type": "stream",
     "text": [
      "interação 1, l=0, h=6, m=3\n",
      "interação 2, l=4, h=6, m=5\n",
      "interação 3, l=6, h=6, m=6\n",
      "interação 4, l=7, h=6, m=6\n",
      "interação 5, l=7, h=6, m=6\n",
      "interação 6, l=7, h=6, m=6\n",
      "interação 7, l=7, h=6, m=6\n",
      "interação 1, l=0, h=6, m=3\n",
      "interação 2, l=4, h=6, m=5\n",
      "interação 3, l=6, h=6, m=6\n",
      "-1 6\n"
     ]
    }
   ],
   "source": [
    "def busca_binaria(lista, alvo):\n",
    "    l = 0\n",
    "    h = len(lista) - 1\n",
    "    iteracao = 0\n",
    "    for iteracao in range(len(lista)):  # Corrigido \"interacao\" para \"iteracao\"\n",
    "        m = (l + h) // 2\n",
    "        print(f'interação {iteracao+1}, l={l}, h={h}, m={m}')\n",
    "        if lista[m] == alvo:\n",
    "            return m\n",
    "        elif lista[m] < alvo:\n",
    "            l = m + 1\n",
    "        else:\n",
    "            h = m - 1\n",
    "    return -1\n",
    "\n",
    "lista = [11, 18, 24, 45, 50, 71, 95]\n",
    "alvo1 = 100\n",
    "alvo2 = 95\n",
    "\n",
    "resultado1 = busca_binaria(lista, alvo1)\n",
    "resultado2 = busca_binaria(lista, alvo2)\n",
    "print(resultado1, resultado2)"
   ]
  },
  {
   "cell_type": "code",
   "execution_count": 3,
   "metadata": {},
   "outputs": [
    {
     "name": "stdout",
     "output_type": "stream",
     "text": [
      "interação 1, l=0, h=6, m=3\n",
      "interação 2, l=4, h=6, m=5\n",
      "interação 3, l=6, h=6, m=6\n",
      "interação 1, l=0, h=6, m=3\n",
      "interação 2, l=4, h=6, m=5\n",
      "interação 3, l=6, h=6, m=6\n",
      "-1 6\n"
     ]
    }
   ],
   "source": [
    "def busca_binaria(lista, alvo):\n",
    "    l, h = 0, len(lista) - 1\n",
    "    iteracao = 0 \n",
    "    while l <= h:\n",
    "        iteracao += 1  # Corrigido para incrementar a variável iteracao\n",
    "        m = (l + h) // 2\n",
    "        print(f'interação {iteracao}, l={l}, h={h}, m={m}')\n",
    "        if lista[m] == alvo:\n",
    "            return m\n",
    "        elif lista[m] < alvo:\n",
    "            l = m + 1\n",
    "        else:\n",
    "            h = m - 1\n",
    "    return -1\n",
    "\n",
    "lista = [11, 18, 24, 45, 50, 71, 95]\n",
    "alvo1 = 100\n",
    "alvo2 = 95\n",
    "\n",
    "resultado1 = busca_binaria(lista, alvo1)\n",
    "resultado2 = busca_binaria(lista, alvo2)\n",
    "print(resultado1, resultado2)"
   ]
  }
 ],
 "metadata": {
  "kernelspec": {
   "display_name": "Python 3",
   "language": "python",
   "name": "python3"
  },
  "language_info": {
   "codemirror_mode": {
    "name": "ipython",
    "version": 3
   },
   "file_extension": ".py",
   "mimetype": "text/x-python",
   "name": "python",
   "nbconvert_exporter": "python",
   "pygments_lexer": "ipython3",
   "version": "3.12.3"
  }
 },
 "nbformat": 4,
 "nbformat_minor": 2
}
